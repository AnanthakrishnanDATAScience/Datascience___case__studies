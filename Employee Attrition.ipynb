{
 "cells": [
  {
   "cell_type": "code",
   "execution_count": 71,
   "id": "12d77fb7",
   "metadata": {},
   "outputs": [],
   "source": [
    "# importing the related Libaries:\n",
    "import numpy as np\n",
    "import pandas as pd\n",
    "import matplotlib.pyplot as plt\n",
    "import seaborn as sns\n",
    "\n",
    "%matplotlib inline"
   ]
  },
  {
   "cell_type": "code",
   "execution_count": 72,
   "id": "a644edfc",
   "metadata": {},
   "outputs": [
    {
     "data": {
      "text/html": [
       "<div>\n",
       "<style scoped>\n",
       "    .dataframe tbody tr th:only-of-type {\n",
       "        vertical-align: middle;\n",
       "    }\n",
       "\n",
       "    .dataframe tbody tr th {\n",
       "        vertical-align: top;\n",
       "    }\n",
       "\n",
       "    .dataframe thead th {\n",
       "        text-align: right;\n",
       "    }\n",
       "</style>\n",
       "<table border=\"1\" class=\"dataframe\">\n",
       "  <thead>\n",
       "    <tr style=\"text-align: right;\">\n",
       "      <th></th>\n",
       "      <th>satisfaction_level</th>\n",
       "      <th>last_evaluation</th>\n",
       "      <th>number_project</th>\n",
       "      <th>average_montly_hours</th>\n",
       "      <th>time_spend_company</th>\n",
       "      <th>Work_accident</th>\n",
       "      <th>left</th>\n",
       "      <th>promotion_last_5years</th>\n",
       "      <th>sales</th>\n",
       "      <th>salary</th>\n",
       "    </tr>\n",
       "  </thead>\n",
       "  <tbody>\n",
       "    <tr>\n",
       "      <th>0</th>\n",
       "      <td>0.38</td>\n",
       "      <td>0.53</td>\n",
       "      <td>2</td>\n",
       "      <td>157</td>\n",
       "      <td>3</td>\n",
       "      <td>0</td>\n",
       "      <td>1</td>\n",
       "      <td>0</td>\n",
       "      <td>sales</td>\n",
       "      <td>low</td>\n",
       "    </tr>\n",
       "    <tr>\n",
       "      <th>1</th>\n",
       "      <td>0.80</td>\n",
       "      <td>0.86</td>\n",
       "      <td>5</td>\n",
       "      <td>262</td>\n",
       "      <td>6</td>\n",
       "      <td>0</td>\n",
       "      <td>1</td>\n",
       "      <td>0</td>\n",
       "      <td>sales</td>\n",
       "      <td>medium</td>\n",
       "    </tr>\n",
       "    <tr>\n",
       "      <th>2</th>\n",
       "      <td>0.11</td>\n",
       "      <td>0.88</td>\n",
       "      <td>7</td>\n",
       "      <td>272</td>\n",
       "      <td>4</td>\n",
       "      <td>0</td>\n",
       "      <td>1</td>\n",
       "      <td>0</td>\n",
       "      <td>sales</td>\n",
       "      <td>medium</td>\n",
       "    </tr>\n",
       "    <tr>\n",
       "      <th>3</th>\n",
       "      <td>0.72</td>\n",
       "      <td>0.87</td>\n",
       "      <td>5</td>\n",
       "      <td>223</td>\n",
       "      <td>5</td>\n",
       "      <td>0</td>\n",
       "      <td>1</td>\n",
       "      <td>0</td>\n",
       "      <td>sales</td>\n",
       "      <td>low</td>\n",
       "    </tr>\n",
       "    <tr>\n",
       "      <th>4</th>\n",
       "      <td>0.37</td>\n",
       "      <td>0.52</td>\n",
       "      <td>2</td>\n",
       "      <td>159</td>\n",
       "      <td>3</td>\n",
       "      <td>0</td>\n",
       "      <td>1</td>\n",
       "      <td>0</td>\n",
       "      <td>sales</td>\n",
       "      <td>low</td>\n",
       "    </tr>\n",
       "    <tr>\n",
       "      <th>...</th>\n",
       "      <td>...</td>\n",
       "      <td>...</td>\n",
       "      <td>...</td>\n",
       "      <td>...</td>\n",
       "      <td>...</td>\n",
       "      <td>...</td>\n",
       "      <td>...</td>\n",
       "      <td>...</td>\n",
       "      <td>...</td>\n",
       "      <td>...</td>\n",
       "    </tr>\n",
       "    <tr>\n",
       "      <th>14994</th>\n",
       "      <td>0.40</td>\n",
       "      <td>0.57</td>\n",
       "      <td>2</td>\n",
       "      <td>151</td>\n",
       "      <td>3</td>\n",
       "      <td>0</td>\n",
       "      <td>1</td>\n",
       "      <td>0</td>\n",
       "      <td>support</td>\n",
       "      <td>low</td>\n",
       "    </tr>\n",
       "    <tr>\n",
       "      <th>14995</th>\n",
       "      <td>0.37</td>\n",
       "      <td>0.48</td>\n",
       "      <td>2</td>\n",
       "      <td>160</td>\n",
       "      <td>3</td>\n",
       "      <td>0</td>\n",
       "      <td>1</td>\n",
       "      <td>0</td>\n",
       "      <td>support</td>\n",
       "      <td>low</td>\n",
       "    </tr>\n",
       "    <tr>\n",
       "      <th>14996</th>\n",
       "      <td>0.37</td>\n",
       "      <td>0.53</td>\n",
       "      <td>2</td>\n",
       "      <td>143</td>\n",
       "      <td>3</td>\n",
       "      <td>0</td>\n",
       "      <td>1</td>\n",
       "      <td>0</td>\n",
       "      <td>support</td>\n",
       "      <td>low</td>\n",
       "    </tr>\n",
       "    <tr>\n",
       "      <th>14997</th>\n",
       "      <td>0.11</td>\n",
       "      <td>0.96</td>\n",
       "      <td>6</td>\n",
       "      <td>280</td>\n",
       "      <td>4</td>\n",
       "      <td>0</td>\n",
       "      <td>1</td>\n",
       "      <td>0</td>\n",
       "      <td>support</td>\n",
       "      <td>low</td>\n",
       "    </tr>\n",
       "    <tr>\n",
       "      <th>14998</th>\n",
       "      <td>0.37</td>\n",
       "      <td>0.52</td>\n",
       "      <td>2</td>\n",
       "      <td>158</td>\n",
       "      <td>3</td>\n",
       "      <td>0</td>\n",
       "      <td>1</td>\n",
       "      <td>0</td>\n",
       "      <td>support</td>\n",
       "      <td>low</td>\n",
       "    </tr>\n",
       "  </tbody>\n",
       "</table>\n",
       "<p>14999 rows × 10 columns</p>\n",
       "</div>"
      ],
      "text/plain": [
       "       satisfaction_level  last_evaluation  number_project  \\\n",
       "0                    0.38             0.53               2   \n",
       "1                    0.80             0.86               5   \n",
       "2                    0.11             0.88               7   \n",
       "3                    0.72             0.87               5   \n",
       "4                    0.37             0.52               2   \n",
       "...                   ...              ...             ...   \n",
       "14994                0.40             0.57               2   \n",
       "14995                0.37             0.48               2   \n",
       "14996                0.37             0.53               2   \n",
       "14997                0.11             0.96               6   \n",
       "14998                0.37             0.52               2   \n",
       "\n",
       "       average_montly_hours  time_spend_company  Work_accident  left  \\\n",
       "0                       157                   3              0     1   \n",
       "1                       262                   6              0     1   \n",
       "2                       272                   4              0     1   \n",
       "3                       223                   5              0     1   \n",
       "4                       159                   3              0     1   \n",
       "...                     ...                 ...            ...   ...   \n",
       "14994                   151                   3              0     1   \n",
       "14995                   160                   3              0     1   \n",
       "14996                   143                   3              0     1   \n",
       "14997                   280                   4              0     1   \n",
       "14998                   158                   3              0     1   \n",
       "\n",
       "       promotion_last_5years    sales  salary  \n",
       "0                          0    sales     low  \n",
       "1                          0    sales  medium  \n",
       "2                          0    sales  medium  \n",
       "3                          0    sales     low  \n",
       "4                          0    sales     low  \n",
       "...                      ...      ...     ...  \n",
       "14994                      0  support     low  \n",
       "14995                      0  support     low  \n",
       "14996                      0  support     low  \n",
       "14997                      0  support     low  \n",
       "14998                      0  support     low  \n",
       "\n",
       "[14999 rows x 10 columns]"
      ]
     },
     "execution_count": 72,
     "metadata": {},
     "output_type": "execute_result"
    }
   ],
   "source": [
    "# Load the dataset:\n",
    "df=pd.read_csv(\"HR_comma_sep.csv\")\n",
    "df"
   ]
  },
  {
   "cell_type": "code",
   "execution_count": 73,
   "id": "a3a1b34b",
   "metadata": {},
   "outputs": [
    {
     "data": {
      "text/html": [
       "<div>\n",
       "<style scoped>\n",
       "    .dataframe tbody tr th:only-of-type {\n",
       "        vertical-align: middle;\n",
       "    }\n",
       "\n",
       "    .dataframe tbody tr th {\n",
       "        vertical-align: top;\n",
       "    }\n",
       "\n",
       "    .dataframe thead th {\n",
       "        text-align: right;\n",
       "    }\n",
       "</style>\n",
       "<table border=\"1\" class=\"dataframe\">\n",
       "  <thead>\n",
       "    <tr style=\"text-align: right;\">\n",
       "      <th></th>\n",
       "      <th>satisfaction_level</th>\n",
       "      <th>last_evaluation</th>\n",
       "      <th>number_project</th>\n",
       "      <th>average_montly_hours</th>\n",
       "      <th>time_spend_company</th>\n",
       "      <th>Work_accident</th>\n",
       "      <th>left</th>\n",
       "      <th>promotion_last_5years</th>\n",
       "      <th>sales</th>\n",
       "      <th>salary</th>\n",
       "    </tr>\n",
       "  </thead>\n",
       "  <tbody>\n",
       "    <tr>\n",
       "      <th>0</th>\n",
       "      <td>0.38</td>\n",
       "      <td>0.53</td>\n",
       "      <td>2</td>\n",
       "      <td>157</td>\n",
       "      <td>3</td>\n",
       "      <td>0</td>\n",
       "      <td>1</td>\n",
       "      <td>0</td>\n",
       "      <td>sales</td>\n",
       "      <td>low</td>\n",
       "    </tr>\n",
       "    <tr>\n",
       "      <th>1</th>\n",
       "      <td>0.80</td>\n",
       "      <td>0.86</td>\n",
       "      <td>5</td>\n",
       "      <td>262</td>\n",
       "      <td>6</td>\n",
       "      <td>0</td>\n",
       "      <td>1</td>\n",
       "      <td>0</td>\n",
       "      <td>sales</td>\n",
       "      <td>medium</td>\n",
       "    </tr>\n",
       "    <tr>\n",
       "      <th>2</th>\n",
       "      <td>0.11</td>\n",
       "      <td>0.88</td>\n",
       "      <td>7</td>\n",
       "      <td>272</td>\n",
       "      <td>4</td>\n",
       "      <td>0</td>\n",
       "      <td>1</td>\n",
       "      <td>0</td>\n",
       "      <td>sales</td>\n",
       "      <td>medium</td>\n",
       "    </tr>\n",
       "    <tr>\n",
       "      <th>3</th>\n",
       "      <td>0.72</td>\n",
       "      <td>0.87</td>\n",
       "      <td>5</td>\n",
       "      <td>223</td>\n",
       "      <td>5</td>\n",
       "      <td>0</td>\n",
       "      <td>1</td>\n",
       "      <td>0</td>\n",
       "      <td>sales</td>\n",
       "      <td>low</td>\n",
       "    </tr>\n",
       "    <tr>\n",
       "      <th>4</th>\n",
       "      <td>0.37</td>\n",
       "      <td>0.52</td>\n",
       "      <td>2</td>\n",
       "      <td>159</td>\n",
       "      <td>3</td>\n",
       "      <td>0</td>\n",
       "      <td>1</td>\n",
       "      <td>0</td>\n",
       "      <td>sales</td>\n",
       "      <td>low</td>\n",
       "    </tr>\n",
       "    <tr>\n",
       "      <th>5</th>\n",
       "      <td>0.41</td>\n",
       "      <td>0.50</td>\n",
       "      <td>2</td>\n",
       "      <td>153</td>\n",
       "      <td>3</td>\n",
       "      <td>0</td>\n",
       "      <td>1</td>\n",
       "      <td>0</td>\n",
       "      <td>sales</td>\n",
       "      <td>low</td>\n",
       "    </tr>\n",
       "    <tr>\n",
       "      <th>6</th>\n",
       "      <td>0.10</td>\n",
       "      <td>0.77</td>\n",
       "      <td>6</td>\n",
       "      <td>247</td>\n",
       "      <td>4</td>\n",
       "      <td>0</td>\n",
       "      <td>1</td>\n",
       "      <td>0</td>\n",
       "      <td>sales</td>\n",
       "      <td>low</td>\n",
       "    </tr>\n",
       "    <tr>\n",
       "      <th>7</th>\n",
       "      <td>0.92</td>\n",
       "      <td>0.85</td>\n",
       "      <td>5</td>\n",
       "      <td>259</td>\n",
       "      <td>5</td>\n",
       "      <td>0</td>\n",
       "      <td>1</td>\n",
       "      <td>0</td>\n",
       "      <td>sales</td>\n",
       "      <td>low</td>\n",
       "    </tr>\n",
       "    <tr>\n",
       "      <th>8</th>\n",
       "      <td>0.89</td>\n",
       "      <td>1.00</td>\n",
       "      <td>5</td>\n",
       "      <td>224</td>\n",
       "      <td>5</td>\n",
       "      <td>0</td>\n",
       "      <td>1</td>\n",
       "      <td>0</td>\n",
       "      <td>sales</td>\n",
       "      <td>low</td>\n",
       "    </tr>\n",
       "    <tr>\n",
       "      <th>9</th>\n",
       "      <td>0.42</td>\n",
       "      <td>0.53</td>\n",
       "      <td>2</td>\n",
       "      <td>142</td>\n",
       "      <td>3</td>\n",
       "      <td>0</td>\n",
       "      <td>1</td>\n",
       "      <td>0</td>\n",
       "      <td>sales</td>\n",
       "      <td>low</td>\n",
       "    </tr>\n",
       "  </tbody>\n",
       "</table>\n",
       "</div>"
      ],
      "text/plain": [
       "   satisfaction_level  last_evaluation  number_project  average_montly_hours  \\\n",
       "0                0.38             0.53               2                   157   \n",
       "1                0.80             0.86               5                   262   \n",
       "2                0.11             0.88               7                   272   \n",
       "3                0.72             0.87               5                   223   \n",
       "4                0.37             0.52               2                   159   \n",
       "5                0.41             0.50               2                   153   \n",
       "6                0.10             0.77               6                   247   \n",
       "7                0.92             0.85               5                   259   \n",
       "8                0.89             1.00               5                   224   \n",
       "9                0.42             0.53               2                   142   \n",
       "\n",
       "   time_spend_company  Work_accident  left  promotion_last_5years  sales  \\\n",
       "0                   3              0     1                      0  sales   \n",
       "1                   6              0     1                      0  sales   \n",
       "2                   4              0     1                      0  sales   \n",
       "3                   5              0     1                      0  sales   \n",
       "4                   3              0     1                      0  sales   \n",
       "5                   3              0     1                      0  sales   \n",
       "6                   4              0     1                      0  sales   \n",
       "7                   5              0     1                      0  sales   \n",
       "8                   5              0     1                      0  sales   \n",
       "9                   3              0     1                      0  sales   \n",
       "\n",
       "   salary  \n",
       "0     low  \n",
       "1  medium  \n",
       "2  medium  \n",
       "3     low  \n",
       "4     low  \n",
       "5     low  \n",
       "6     low  \n",
       "7     low  \n",
       "8     low  \n",
       "9     low  "
      ]
     },
     "execution_count": 73,
     "metadata": {},
     "output_type": "execute_result"
    }
   ],
   "source": [
    "df.head(10)"
   ]
  },
  {
   "cell_type": "code",
   "execution_count": 74,
   "id": "62d86a02",
   "metadata": {},
   "outputs": [
    {
     "name": "stdout",
     "output_type": "stream",
     "text": [
      "No.of.rows: 14999\n",
      "No.of.columns: 10\n"
     ]
    }
   ],
   "source": [
    "print(\"No.of.rows:\",df.shape[0])\n",
    "print(\"No.of.columns:\",df.shape[1])"
   ]
  },
  {
   "cell_type": "code",
   "execution_count": 75,
   "id": "be4f6d3e",
   "metadata": {},
   "outputs": [
    {
     "name": "stdout",
     "output_type": "stream",
     "text": [
      "<class 'pandas.core.frame.DataFrame'>\n",
      "RangeIndex: 14999 entries, 0 to 14998\n",
      "Data columns (total 10 columns):\n",
      " #   Column                 Non-Null Count  Dtype  \n",
      "---  ------                 --------------  -----  \n",
      " 0   satisfaction_level     14999 non-null  float64\n",
      " 1   last_evaluation        14999 non-null  float64\n",
      " 2   number_project         14999 non-null  int64  \n",
      " 3   average_montly_hours   14999 non-null  int64  \n",
      " 4   time_spend_company     14999 non-null  int64  \n",
      " 5   Work_accident          14999 non-null  int64  \n",
      " 6   left                   14999 non-null  int64  \n",
      " 7   promotion_last_5years  14999 non-null  int64  \n",
      " 8   sales                  14999 non-null  object \n",
      " 9   salary                 14999 non-null  object \n",
      "dtypes: float64(2), int64(6), object(2)\n",
      "memory usage: 1.1+ MB\n"
     ]
    }
   ],
   "source": [
    "df.info()"
   ]
  },
  {
   "cell_type": "code",
   "execution_count": 76,
   "id": "b217a4f1",
   "metadata": {},
   "outputs": [
    {
     "data": {
      "text/plain": [
       "satisfaction_level       0\n",
       "last_evaluation          0\n",
       "number_project           0\n",
       "average_montly_hours     0\n",
       "time_spend_company       0\n",
       "Work_accident            0\n",
       "left                     0\n",
       "promotion_last_5years    0\n",
       "sales                    0\n",
       "salary                   0\n",
       "dtype: int64"
      ]
     },
     "execution_count": 76,
     "metadata": {},
     "output_type": "execute_result"
    }
   ],
   "source": [
    "# Data preprocesing:\n",
    "\n",
    "df.isnull().sum()"
   ]
  },
  {
   "cell_type": "code",
   "execution_count": 77,
   "id": "5a3ec573",
   "metadata": {},
   "outputs": [
    {
     "data": {
      "text/plain": [
       "0    11428\n",
       "1     3571\n",
       "Name: left, dtype: int64"
      ]
     },
     "execution_count": 77,
     "metadata": {},
     "output_type": "execute_result"
    }
   ],
   "source": [
    "df[\"left\"].value_counts()"
   ]
  },
  {
   "cell_type": "code",
   "execution_count": 78,
   "id": "62008285",
   "metadata": {},
   "outputs": [
    {
     "data": {
      "text/plain": [
       "low       7316\n",
       "medium    6446\n",
       "high      1237\n",
       "Name: salary, dtype: int64"
      ]
     },
     "execution_count": 78,
     "metadata": {},
     "output_type": "execute_result"
    }
   ],
   "source": [
    "df[\"salary\"].value_counts()"
   ]
  },
  {
   "cell_type": "code",
   "execution_count": 79,
   "id": "be5c82c9",
   "metadata": {},
   "outputs": [
    {
     "data": {
      "text/plain": [
       "0    14680\n",
       "1      319\n",
       "Name: promotion_last_5years, dtype: int64"
      ]
     },
     "execution_count": 79,
     "metadata": {},
     "output_type": "execute_result"
    }
   ],
   "source": [
    "df[\"promotion_last_5years\"].value_counts()"
   ]
  },
  {
   "cell_type": "code",
   "execution_count": 80,
   "id": "837bb85d",
   "metadata": {},
   "outputs": [
    {
     "data": {
      "text/plain": [
       "sales          4140\n",
       "technical      2720\n",
       "support        2229\n",
       "IT             1227\n",
       "product_mng     902\n",
       "marketing       858\n",
       "RandD           787\n",
       "accounting      767\n",
       "hr              739\n",
       "management      630\n",
       "Name: sales, dtype: int64"
      ]
     },
     "execution_count": 80,
     "metadata": {},
     "output_type": "execute_result"
    }
   ],
   "source": [
    "df[\"sales\"].value_counts()"
   ]
  },
  {
   "cell_type": "code",
   "execution_count": 81,
   "id": "1902fa29",
   "metadata": {},
   "outputs": [
    {
     "data": {
      "text/plain": [
       "<AxesSubplot:xlabel='left', ylabel='count'>"
      ]
     },
     "execution_count": 81,
     "metadata": {},
     "output_type": "execute_result"
    },
    {
     "data": {
      "image/png": "[encoded data removed]",
      "text/plain": [
       "<Figure size 432x288 with 1 Axes>"
      ]
     },
     "metadata": {
      "needs_background": "light"
     },
     "output_type": "display_data"
    }
   ],
   "source": [
    "# Data visulaizations:\n",
    "import warnings\n",
    "warnings.simplefilter(\"ignore\")\n",
    "\n",
    "sns.countplot(df[\"left\"])"
   ]
  },
  {
   "cell_type": "code",
   "execution_count": 82,
   "id": "9c95d618",
   "metadata": {},
   "outputs": [
    {
     "data": {
      "text/plain": [
       "<AxesSubplot:xlabel='sales', ylabel='count'>"
      ]
     },
     "execution_count": 82,
     "metadata": {},
     "output_type": "execute_result"
    },
    {
     "data": {
      "image/png": "[encoded data removed]",
      "text/plain": [
       "<Figure size 432x288 with 1 Axes>"
      ]
     },
     "metadata": {
      "needs_background": "light"
     },
     "output_type": "display_data"
    }
   ],
   "source": [
    "sns.countplot(df[\"sales\"])"
   ]
  },
  {
   "cell_type": "code",
   "execution_count": 83,
   "id": "ba263f01",
   "metadata": {},
   "outputs": [
    {
     "data": {
      "text/plain": [
       "<AxesSubplot:xlabel='promotion_last_5years', ylabel='count'>"
      ]
     },
     "execution_count": 83,
     "metadata": {},
     "output_type": "execute_result"
    },
    {
     "data": {
      "image/png": "[encoded data removed]",
      "text/plain": [
       "<Figure size 432x288 with 1 Axes>"
      ]
     },
     "metadata": {
      "needs_background": "light"
     },
     "output_type": "display_data"
    }
   ],
   "source": [
    "sns.countplot(df[\"promotion_last_5years\"])"
   ]
  },
  {
   "cell_type": "code",
   "execution_count": 84,
   "id": "973065cf",
   "metadata": {},
   "outputs": [
    {
     "data": {
      "text/plain": [
       "<AxesSubplot:xlabel='promotion_last_5years'>"
      ]
     },
     "execution_count": 84,
     "metadata": {},
     "output_type": "execute_result"
    },
    {
     "data": {
      "image/png": "[encoded data removed]",
      "text/plain": [
       "<Figure size 720x432 with 1 Axes>"
      ]
     },
     "metadata": {
      "needs_background": "light"
     },
     "output_type": "display_data"
    }
   ],
   "source": [
    "# create the crosstab:\n",
    "pd.crosstab(df[\"promotion_last_5years\"],df[\"left\"]).plot(kind=\"bar\",figsize=(10,6))"
   ]
  },
  {
   "cell_type": "code",
   "execution_count": 85,
   "id": "aacf1363",
   "metadata": {},
   "outputs": [
    {
     "data": {
      "image/png": "[encoded data removed]",
      "text/plain": [
       "<Figure size 720x432 with 1 Axes>"
      ]
     },
     "metadata": {
      "needs_background": "light"
     },
     "output_type": "display_data"
    }
   ],
   "source": [
    "pd.crosstab(df[\"promotion_last_5years\"],df[\"sales\"]).plot(kind=\"bar\",figsize=(10,6))\n",
    "plt.xlabel(\"promotion_last_5years\")\n",
    "plt.ylabel(\"sales\")\n",
    "plt.title(\"promotionVssales\")\n",
    "plt.show()"
   ]
  },
  {
   "cell_type": "code",
   "execution_count": 86,
   "id": "1599f7cd",
   "metadata": {},
   "outputs": [
    {
     "name": "stdout",
     "output_type": "stream",
     "text": [
      "                       satisfaction_level  last_evaluation  number_project  \\\n",
      "satisfaction_level               1.000000         0.105021       -0.142970   \n",
      "last_evaluation                  0.105021         1.000000        0.349333   \n",
      "number_project                  -0.142970         0.349333        1.000000   \n",
      "average_montly_hours            -0.020048         0.339742        0.417211   \n",
      "time_spend_company              -0.100866         0.131591        0.196786   \n",
      "Work_accident                    0.058697        -0.007104       -0.004741   \n",
      "left                            -0.388375         0.006567        0.023787   \n",
      "promotion_last_5years            0.025605        -0.008684       -0.006064   \n",
      "\n",
      "                       average_montly_hours  time_spend_company  \\\n",
      "satisfaction_level                -0.020048           -0.100866   \n",
      "last_evaluation                    0.339742            0.131591   \n",
      "number_project                     0.417211            0.196786   \n",
      "average_montly_hours               1.000000            0.127755   \n",
      "time_spend_company                 0.127755            1.000000   \n",
      "Work_accident                     -0.010143            0.002120   \n",
      "left                               0.071287            0.144822   \n",
      "promotion_last_5years             -0.003544            0.067433   \n",
      "\n",
      "                       Work_accident      left  promotion_last_5years  \n",
      "satisfaction_level          0.058697 -0.388375               0.025605  \n",
      "last_evaluation            -0.007104  0.006567              -0.008684  \n",
      "number_project             -0.004741  0.023787              -0.006064  \n",
      "average_montly_hours       -0.010143  0.071287              -0.003544  \n",
      "time_spend_company          0.002120  0.144822               0.067433  \n",
      "Work_accident               1.000000 -0.154622               0.039245  \n",
      "left                       -0.154622  1.000000              -0.061788  \n",
      "promotion_last_5years       0.039245 -0.061788               1.000000  \n"
     ]
    }
   ],
   "source": [
    "# check the correlation between the variables:\n",
    "corr=df.corr()\n",
    "print(corr)"
   ]
  },
  {
   "cell_type": "code",
   "execution_count": 87,
   "id": "b80921f5",
   "metadata": {},
   "outputs": [
    {
     "data": {
      "image/png": "[encoded data removed]",
      "text/plain": [
       "<Figure size 432x288 with 2 Axes>"
      ]
     },
     "metadata": {
      "needs_background": "light"
     },
     "output_type": "display_data"
    }
   ],
   "source": [
    "import statsmodels.api as sm\n",
    "\n",
    "sm.graphics.plot_corr(corr,xnames=list(corr.columns))\n",
    "plt.show()"
   ]
  },
  {
   "cell_type": "code",
   "execution_count": 88,
   "id": "c0495aeb",
   "metadata": {},
   "outputs": [
    {
     "data": {
      "text/plain": [
       "0        0\n",
       "1        0\n",
       "2        0\n",
       "3        0\n",
       "4        0\n",
       "        ..\n",
       "14994    0\n",
       "14995    0\n",
       "14996    0\n",
       "14997    0\n",
       "14998    0\n",
       "Name: salary, Length: 14999, dtype: int32"
      ]
     },
     "execution_count": 88,
     "metadata": {},
     "output_type": "execute_result"
    }
   ],
   "source": [
    "from sklearn.preprocessing import LabelBinarizer\n",
    "lb=LabelBinarizer()\n",
    "df.salary=lb.fit_transform(df.salary)\n",
    "df.salary"
   ]
  },
  {
   "cell_type": "code",
   "execution_count": 89,
   "id": "f5916835",
   "metadata": {},
   "outputs": [
    {
     "data": {
      "text/plain": [
       "0    13762\n",
       "1     1237\n",
       "Name: salary, dtype: int64"
      ]
     },
     "execution_count": 89,
     "metadata": {},
     "output_type": "execute_result"
    }
   ],
   "source": [
    "df[\"salary\"].value_counts()"
   ]
  },
  {
   "cell_type": "code",
   "execution_count": 90,
   "id": "637ea045",
   "metadata": {},
   "outputs": [
    {
     "data": {
      "text/html": [
       "<div>\n",
       "<style scoped>\n",
       "    .dataframe tbody tr th:only-of-type {\n",
       "        vertical-align: middle;\n",
       "    }\n",
       "\n",
       "    .dataframe tbody tr th {\n",
       "        vertical-align: top;\n",
       "    }\n",
       "\n",
       "    .dataframe thead th {\n",
       "        text-align: right;\n",
       "    }\n",
       "</style>\n",
       "<table border=\"1\" class=\"dataframe\">\n",
       "  <thead>\n",
       "    <tr style=\"text-align: right;\">\n",
       "      <th></th>\n",
       "      <th>satisfaction_level</th>\n",
       "      <th>last_evaluation</th>\n",
       "      <th>number_project</th>\n",
       "      <th>average_montly_hours</th>\n",
       "      <th>time_spend_company</th>\n",
       "      <th>Work_accident</th>\n",
       "      <th>promotion_last_5years</th>\n",
       "      <th>salary</th>\n",
       "    </tr>\n",
       "  </thead>\n",
       "  <tbody>\n",
       "    <tr>\n",
       "      <th>0</th>\n",
       "      <td>0.38</td>\n",
       "      <td>0.53</td>\n",
       "      <td>2</td>\n",
       "      <td>157</td>\n",
       "      <td>3</td>\n",
       "      <td>0</td>\n",
       "      <td>0</td>\n",
       "      <td>0</td>\n",
       "    </tr>\n",
       "    <tr>\n",
       "      <th>1</th>\n",
       "      <td>0.80</td>\n",
       "      <td>0.86</td>\n",
       "      <td>5</td>\n",
       "      <td>262</td>\n",
       "      <td>6</td>\n",
       "      <td>0</td>\n",
       "      <td>0</td>\n",
       "      <td>0</td>\n",
       "    </tr>\n",
       "    <tr>\n",
       "      <th>2</th>\n",
       "      <td>0.11</td>\n",
       "      <td>0.88</td>\n",
       "      <td>7</td>\n",
       "      <td>272</td>\n",
       "      <td>4</td>\n",
       "      <td>0</td>\n",
       "      <td>0</td>\n",
       "      <td>0</td>\n",
       "    </tr>\n",
       "    <tr>\n",
       "      <th>3</th>\n",
       "      <td>0.72</td>\n",
       "      <td>0.87</td>\n",
       "      <td>5</td>\n",
       "      <td>223</td>\n",
       "      <td>5</td>\n",
       "      <td>0</td>\n",
       "      <td>0</td>\n",
       "      <td>0</td>\n",
       "    </tr>\n",
       "    <tr>\n",
       "      <th>4</th>\n",
       "      <td>0.37</td>\n",
       "      <td>0.52</td>\n",
       "      <td>2</td>\n",
       "      <td>159</td>\n",
       "      <td>3</td>\n",
       "      <td>0</td>\n",
       "      <td>0</td>\n",
       "      <td>0</td>\n",
       "    </tr>\n",
       "    <tr>\n",
       "      <th>...</th>\n",
       "      <td>...</td>\n",
       "      <td>...</td>\n",
       "      <td>...</td>\n",
       "      <td>...</td>\n",
       "      <td>...</td>\n",
       "      <td>...</td>\n",
       "      <td>...</td>\n",
       "      <td>...</td>\n",
       "    </tr>\n",
       "    <tr>\n",
       "      <th>14994</th>\n",
       "      <td>0.40</td>\n",
       "      <td>0.57</td>\n",
       "      <td>2</td>\n",
       "      <td>151</td>\n",
       "      <td>3</td>\n",
       "      <td>0</td>\n",
       "      <td>0</td>\n",
       "      <td>0</td>\n",
       "    </tr>\n",
       "    <tr>\n",
       "      <th>14995</th>\n",
       "      <td>0.37</td>\n",
       "      <td>0.48</td>\n",
       "      <td>2</td>\n",
       "      <td>160</td>\n",
       "      <td>3</td>\n",
       "      <td>0</td>\n",
       "      <td>0</td>\n",
       "      <td>0</td>\n",
       "    </tr>\n",
       "    <tr>\n",
       "      <th>14996</th>\n",
       "      <td>0.37</td>\n",
       "      <td>0.53</td>\n",
       "      <td>2</td>\n",
       "      <td>143</td>\n",
       "      <td>3</td>\n",
       "      <td>0</td>\n",
       "      <td>0</td>\n",
       "      <td>0</td>\n",
       "    </tr>\n",
       "    <tr>\n",
       "      <th>14997</th>\n",
       "      <td>0.11</td>\n",
       "      <td>0.96</td>\n",
       "      <td>6</td>\n",
       "      <td>280</td>\n",
       "      <td>4</td>\n",
       "      <td>0</td>\n",
       "      <td>0</td>\n",
       "      <td>0</td>\n",
       "    </tr>\n",
       "    <tr>\n",
       "      <th>14998</th>\n",
       "      <td>0.37</td>\n",
       "      <td>0.52</td>\n",
       "      <td>2</td>\n",
       "      <td>158</td>\n",
       "      <td>3</td>\n",
       "      <td>0</td>\n",
       "      <td>0</td>\n",
       "      <td>0</td>\n",
       "    </tr>\n",
       "  </tbody>\n",
       "</table>\n",
       "<p>14999 rows × 8 columns</p>\n",
       "</div>"
      ],
      "text/plain": [
       "       satisfaction_level  last_evaluation  number_project  \\\n",
       "0                    0.38             0.53               2   \n",
       "1                    0.80             0.86               5   \n",
       "2                    0.11             0.88               7   \n",
       "3                    0.72             0.87               5   \n",
       "4                    0.37             0.52               2   \n",
       "...                   ...              ...             ...   \n",
       "14994                0.40             0.57               2   \n",
       "14995                0.37             0.48               2   \n",
       "14996                0.37             0.53               2   \n",
       "14997                0.11             0.96               6   \n",
       "14998                0.37             0.52               2   \n",
       "\n",
       "       average_montly_hours  time_spend_company  Work_accident  \\\n",
       "0                       157                   3              0   \n",
       "1                       262                   6              0   \n",
       "2                       272                   4              0   \n",
       "3                       223                   5              0   \n",
       "4                       159                   3              0   \n",
       "...                     ...                 ...            ...   \n",
       "14994                   151                   3              0   \n",
       "14995                   160                   3              0   \n",
       "14996                   143                   3              0   \n",
       "14997                   280                   4              0   \n",
       "14998                   158                   3              0   \n",
       "\n",
       "       promotion_last_5years  salary  \n",
       "0                          0       0  \n",
       "1                          0       0  \n",
       "2                          0       0  \n",
       "3                          0       0  \n",
       "4                          0       0  \n",
       "...                      ...     ...  \n",
       "14994                      0       0  \n",
       "14995                      0       0  \n",
       "14996                      0       0  \n",
       "14997                      0       0  \n",
       "14998                      0       0  \n",
       "\n",
       "[14999 rows x 8 columns]"
      ]
     },
     "execution_count": 90,
     "metadata": {},
     "output_type": "execute_result"
    }
   ],
   "source": [
    "# splitting the dependent and independent variables:\n",
    "independent_variables=[\"satisfaction_level\",\"last_evaluation\",\"number_project\",\"average_montly_hours\",\"time_spend_company\",\n",
    "                       \"Work_accident\",\"promotion_last_5years\",\"salary\"]\n",
    "x=df[independent_variables]\n",
    "x"
   ]
  },
  {
   "cell_type": "code",
   "execution_count": 93,
   "id": "11a112c8",
   "metadata": {},
   "outputs": [
    {
     "data": {
      "text/plain": [
       "0        1\n",
       "1        1\n",
       "2        1\n",
       "3        1\n",
       "4        1\n",
       "        ..\n",
       "14994    1\n",
       "14995    1\n",
       "14996    1\n",
       "14997    1\n",
       "14998    1\n",
       "Name: left, Length: 14999, dtype: int64"
      ]
     },
     "execution_count": 93,
     "metadata": {},
     "output_type": "execute_result"
    }
   ],
   "source": [
    "y=df[\"left\"]\n",
    "y"
   ]
  },
  {
   "cell_type": "code",
   "execution_count": 91,
   "id": "8bf4c56d",
   "metadata": {},
   "outputs": [
    {
     "data": {
      "text/html": [
       "<div>\n",
       "<style scoped>\n",
       "    .dataframe tbody tr th:only-of-type {\n",
       "        vertical-align: middle;\n",
       "    }\n",
       "\n",
       "    .dataframe tbody tr th {\n",
       "        vertical-align: top;\n",
       "    }\n",
       "\n",
       "    .dataframe thead th {\n",
       "        text-align: right;\n",
       "    }\n",
       "</style>\n",
       "<table border=\"1\" class=\"dataframe\">\n",
       "  <thead>\n",
       "    <tr style=\"text-align: right;\">\n",
       "      <th></th>\n",
       "      <th>satisfaction_level</th>\n",
       "      <th>last_evaluation</th>\n",
       "      <th>number_project</th>\n",
       "      <th>average_montly_hours</th>\n",
       "      <th>time_spend_company</th>\n",
       "      <th>Work_accident</th>\n",
       "      <th>left</th>\n",
       "      <th>promotion_last_5years</th>\n",
       "      <th>salary</th>\n",
       "    </tr>\n",
       "  </thead>\n",
       "  <tbody>\n",
       "    <tr>\n",
       "      <th>0</th>\n",
       "      <td>0.38</td>\n",
       "      <td>0.53</td>\n",
       "      <td>2</td>\n",
       "      <td>157</td>\n",
       "      <td>3</td>\n",
       "      <td>0</td>\n",
       "      <td>1</td>\n",
       "      <td>0</td>\n",
       "      <td>0</td>\n",
       "    </tr>\n",
       "    <tr>\n",
       "      <th>1</th>\n",
       "      <td>0.80</td>\n",
       "      <td>0.86</td>\n",
       "      <td>5</td>\n",
       "      <td>262</td>\n",
       "      <td>6</td>\n",
       "      <td>0</td>\n",
       "      <td>1</td>\n",
       "      <td>0</td>\n",
       "      <td>0</td>\n",
       "    </tr>\n",
       "    <tr>\n",
       "      <th>2</th>\n",
       "      <td>0.11</td>\n",
       "      <td>0.88</td>\n",
       "      <td>7</td>\n",
       "      <td>272</td>\n",
       "      <td>4</td>\n",
       "      <td>0</td>\n",
       "      <td>1</td>\n",
       "      <td>0</td>\n",
       "      <td>0</td>\n",
       "    </tr>\n",
       "    <tr>\n",
       "      <th>3</th>\n",
       "      <td>0.72</td>\n",
       "      <td>0.87</td>\n",
       "      <td>5</td>\n",
       "      <td>223</td>\n",
       "      <td>5</td>\n",
       "      <td>0</td>\n",
       "      <td>1</td>\n",
       "      <td>0</td>\n",
       "      <td>0</td>\n",
       "    </tr>\n",
       "    <tr>\n",
       "      <th>4</th>\n",
       "      <td>0.37</td>\n",
       "      <td>0.52</td>\n",
       "      <td>2</td>\n",
       "      <td>159</td>\n",
       "      <td>3</td>\n",
       "      <td>0</td>\n",
       "      <td>1</td>\n",
       "      <td>0</td>\n",
       "      <td>0</td>\n",
       "    </tr>\n",
       "    <tr>\n",
       "      <th>...</th>\n",
       "      <td>...</td>\n",
       "      <td>...</td>\n",
       "      <td>...</td>\n",
       "      <td>...</td>\n",
       "      <td>...</td>\n",
       "      <td>...</td>\n",
       "      <td>...</td>\n",
       "      <td>...</td>\n",
       "      <td>...</td>\n",
       "    </tr>\n",
       "    <tr>\n",
       "      <th>14994</th>\n",
       "      <td>0.40</td>\n",
       "      <td>0.57</td>\n",
       "      <td>2</td>\n",
       "      <td>151</td>\n",
       "      <td>3</td>\n",
       "      <td>0</td>\n",
       "      <td>1</td>\n",
       "      <td>0</td>\n",
       "      <td>0</td>\n",
       "    </tr>\n",
       "    <tr>\n",
       "      <th>14995</th>\n",
       "      <td>0.37</td>\n",
       "      <td>0.48</td>\n",
       "      <td>2</td>\n",
       "      <td>160</td>\n",
       "      <td>3</td>\n",
       "      <td>0</td>\n",
       "      <td>1</td>\n",
       "      <td>0</td>\n",
       "      <td>0</td>\n",
       "    </tr>\n",
       "    <tr>\n",
       "      <th>14996</th>\n",
       "      <td>0.37</td>\n",
       "      <td>0.53</td>\n",
       "      <td>2</td>\n",
       "      <td>143</td>\n",
       "      <td>3</td>\n",
       "      <td>0</td>\n",
       "      <td>1</td>\n",
       "      <td>0</td>\n",
       "      <td>0</td>\n",
       "    </tr>\n",
       "    <tr>\n",
       "      <th>14997</th>\n",
       "      <td>0.11</td>\n",
       "      <td>0.96</td>\n",
       "      <td>6</td>\n",
       "      <td>280</td>\n",
       "      <td>4</td>\n",
       "      <td>0</td>\n",
       "      <td>1</td>\n",
       "      <td>0</td>\n",
       "      <td>0</td>\n",
       "    </tr>\n",
       "    <tr>\n",
       "      <th>14998</th>\n",
       "      <td>0.37</td>\n",
       "      <td>0.52</td>\n",
       "      <td>2</td>\n",
       "      <td>158</td>\n",
       "      <td>3</td>\n",
       "      <td>0</td>\n",
       "      <td>1</td>\n",
       "      <td>0</td>\n",
       "      <td>0</td>\n",
       "    </tr>\n",
       "  </tbody>\n",
       "</table>\n",
       "<p>14999 rows × 9 columns</p>\n",
       "</div>"
      ],
      "text/plain": [
       "       satisfaction_level  last_evaluation  number_project  \\\n",
       "0                    0.38             0.53               2   \n",
       "1                    0.80             0.86               5   \n",
       "2                    0.11             0.88               7   \n",
       "3                    0.72             0.87               5   \n",
       "4                    0.37             0.52               2   \n",
       "...                   ...              ...             ...   \n",
       "14994                0.40             0.57               2   \n",
       "14995                0.37             0.48               2   \n",
       "14996                0.37             0.53               2   \n",
       "14997                0.11             0.96               6   \n",
       "14998                0.37             0.52               2   \n",
       "\n",
       "       average_montly_hours  time_spend_company  Work_accident  left  \\\n",
       "0                       157                   3              0     1   \n",
       "1                       262                   6              0     1   \n",
       "2                       272                   4              0     1   \n",
       "3                       223                   5              0     1   \n",
       "4                       159                   3              0     1   \n",
       "...                     ...                 ...            ...   ...   \n",
       "14994                   151                   3              0     1   \n",
       "14995                   160                   3              0     1   \n",
       "14996                   143                   3              0     1   \n",
       "14997                   280                   4              0     1   \n",
       "14998                   158                   3              0     1   \n",
       "\n",
       "       promotion_last_5years  salary  \n",
       "0                          0       0  \n",
       "1                          0       0  \n",
       "2                          0       0  \n",
       "3                          0       0  \n",
       "4                          0       0  \n",
       "...                      ...     ...  \n",
       "14994                      0       0  \n",
       "14995                      0       0  \n",
       "14996                      0       0  \n",
       "14997                      0       0  \n",
       "14998                      0       0  \n",
       "\n",
       "[14999 rows x 9 columns]"
      ]
     },
     "execution_count": 91,
     "metadata": {},
     "output_type": "execute_result"
    }
   ],
   "source": [
    "df=df.drop(columns=\"sales\",axis=1)\n",
    "df"
   ]
  },
  {
   "cell_type": "code",
   "execution_count": 95,
   "id": "0f548084",
   "metadata": {},
   "outputs": [],
   "source": [
    "# check the train_test_split and check the model score for both the train and test:\n",
    "from sklearn.model_selection import train_test_split\n",
    "\n",
    "x_train,x_test,y_train,y_test=train_test_split(x,y,test_size=0.20,random_state=42,shuffle=True)"
   ]
  },
  {
   "cell_type": "code",
   "execution_count": 97,
   "id": "645e0383",
   "metadata": {},
   "outputs": [
    {
     "data": {
      "text/plain": [
       "LogisticRegression()"
      ]
     },
     "execution_count": 97,
     "metadata": {},
     "output_type": "execute_result"
    }
   ],
   "source": [
    "# check the train and test score for logisticRegression:\n",
    "from sklearn.linear_model import LogisticRegression\n",
    "\n",
    "model=LogisticRegression()\n",
    "model.fit(x_train,y_train)"
   ]
  },
  {
   "cell_type": "code",
   "execution_count": 100,
   "id": "ede48560",
   "metadata": {},
   "outputs": [
    {
     "data": {
      "text/plain": [
       "0.768564047003917"
      ]
     },
     "execution_count": 100,
     "metadata": {},
     "output_type": "execute_result"
    }
   ],
   "source": [
    "train_score=model.score(x_train,y_train)\n",
    "train_score"
   ]
  },
  {
   "cell_type": "code",
   "execution_count": 102,
   "id": "2abecb0e",
   "metadata": {},
   "outputs": [
    {
     "data": {
      "text/plain": [
       "0.755"
      ]
     },
     "execution_count": 102,
     "metadata": {},
     "output_type": "execute_result"
    }
   ],
   "source": [
    "test_score=model.score(x_test,y_test)\n",
    "test_score"
   ]
  },
  {
   "cell_type": "code",
   "execution_count": 106,
   "id": "553ccf38",
   "metadata": {},
   "outputs": [
    {
     "data": {
      "text/plain": [
       "DecisionTreeClassifier()"
      ]
     },
     "execution_count": 106,
     "metadata": {},
     "output_type": "execute_result"
    }
   ],
   "source": [
    "from sklearn.tree import DecisionTreeClassifier\n",
    "\n",
    "model1=DecisionTreeClassifier()\n",
    "model1.fit(x_train,y_train)"
   ]
  },
  {
   "cell_type": "code",
   "execution_count": 108,
   "id": "4b583e9f",
   "metadata": {},
   "outputs": [
    {
     "data": {
      "text/plain": [
       "1.0"
      ]
     },
     "execution_count": 108,
     "metadata": {},
     "output_type": "execute_result"
    }
   ],
   "source": [
    "train_score=model1.score(x_train,y_train)\n",
    "train_score"
   ]
  },
  {
   "cell_type": "code",
   "execution_count": 110,
   "id": "6c748e42",
   "metadata": {},
   "outputs": [
    {
     "data": {
      "text/plain": [
       "0.9756666666666667"
      ]
     },
     "execution_count": 110,
     "metadata": {},
     "output_type": "execute_result"
    }
   ],
   "source": [
    "test_score=model1.score(x_test,y_test)\n",
    "test_score"
   ]
  },
  {
   "cell_type": "code",
   "execution_count": 114,
   "id": "fc6f9416",
   "metadata": {},
   "outputs": [
    {
     "data": {
      "text/html": [
       "<div>\n",
       "<style scoped>\n",
       "    .dataframe tbody tr th:only-of-type {\n",
       "        vertical-align: middle;\n",
       "    }\n",
       "\n",
       "    .dataframe tbody tr th {\n",
       "        vertical-align: top;\n",
       "    }\n",
       "\n",
       "    .dataframe thead th {\n",
       "        text-align: right;\n",
       "    }\n",
       "</style>\n",
       "<table border=\"1\" class=\"dataframe\">\n",
       "  <thead>\n",
       "    <tr style=\"text-align: right;\">\n",
       "      <th></th>\n",
       "      <th>left</th>\n",
       "    </tr>\n",
       "  </thead>\n",
       "  <tbody>\n",
       "    <tr>\n",
       "      <th>0</th>\n",
       "      <td>0</td>\n",
       "    </tr>\n",
       "    <tr>\n",
       "      <th>1</th>\n",
       "      <td>0</td>\n",
       "    </tr>\n",
       "    <tr>\n",
       "      <th>2</th>\n",
       "      <td>0</td>\n",
       "    </tr>\n",
       "    <tr>\n",
       "      <th>3</th>\n",
       "      <td>0</td>\n",
       "    </tr>\n",
       "    <tr>\n",
       "      <th>4</th>\n",
       "      <td>0</td>\n",
       "    </tr>\n",
       "    <tr>\n",
       "      <th>...</th>\n",
       "      <td>...</td>\n",
       "    </tr>\n",
       "    <tr>\n",
       "      <th>2995</th>\n",
       "      <td>0</td>\n",
       "    </tr>\n",
       "    <tr>\n",
       "      <th>2996</th>\n",
       "      <td>0</td>\n",
       "    </tr>\n",
       "    <tr>\n",
       "      <th>2997</th>\n",
       "      <td>0</td>\n",
       "    </tr>\n",
       "    <tr>\n",
       "      <th>2998</th>\n",
       "      <td>0</td>\n",
       "    </tr>\n",
       "    <tr>\n",
       "      <th>2999</th>\n",
       "      <td>0</td>\n",
       "    </tr>\n",
       "  </tbody>\n",
       "</table>\n",
       "<p>3000 rows × 1 columns</p>\n",
       "</div>"
      ],
      "text/plain": [
       "      left\n",
       "0        0\n",
       "1        0\n",
       "2        0\n",
       "3        0\n",
       "4        0\n",
       "...    ...\n",
       "2995     0\n",
       "2996     0\n",
       "2997     0\n",
       "2998     0\n",
       "2999     0\n",
       "\n",
       "[3000 rows x 1 columns]"
      ]
     },
     "execution_count": 114,
     "metadata": {},
     "output_type": "execute_result"
    }
   ],
   "source": [
    "# predicted the model with LogisticRegression:\n",
    "y_predict=model.predict(x_test)\n",
    "predicted_stastus=pd.DataFrame(data={\"left\":y_predict.flatten()})\n",
    "predicted_stastus"
   ]
  },
  {
   "cell_type": "code",
   "execution_count": 125,
   "id": "d0af68f9",
   "metadata": {},
   "outputs": [
    {
     "data": {
      "text/html": [
       "<div>\n",
       "<style scoped>\n",
       "    .dataframe tbody tr th:only-of-type {\n",
       "        vertical-align: middle;\n",
       "    }\n",
       "\n",
       "    .dataframe tbody tr th {\n",
       "        vertical-align: top;\n",
       "    }\n",
       "\n",
       "    .dataframe thead th {\n",
       "        text-align: right;\n",
       "    }\n",
       "</style>\n",
       "<table border=\"1\" class=\"dataframe\">\n",
       "  <thead>\n",
       "    <tr style=\"text-align: right;\">\n",
       "      <th></th>\n",
       "      <th>left</th>\n",
       "    </tr>\n",
       "  </thead>\n",
       "  <tbody>\n",
       "    <tr>\n",
       "      <th>0</th>\n",
       "      <td>0</td>\n",
       "    </tr>\n",
       "    <tr>\n",
       "      <th>1</th>\n",
       "      <td>0</td>\n",
       "    </tr>\n",
       "    <tr>\n",
       "      <th>2</th>\n",
       "      <td>0</td>\n",
       "    </tr>\n",
       "    <tr>\n",
       "      <th>3</th>\n",
       "      <td>1</td>\n",
       "    </tr>\n",
       "    <tr>\n",
       "      <th>4</th>\n",
       "      <td>0</td>\n",
       "    </tr>\n",
       "    <tr>\n",
       "      <th>...</th>\n",
       "      <td>...</td>\n",
       "    </tr>\n",
       "    <tr>\n",
       "      <th>2995</th>\n",
       "      <td>0</td>\n",
       "    </tr>\n",
       "    <tr>\n",
       "      <th>2996</th>\n",
       "      <td>0</td>\n",
       "    </tr>\n",
       "    <tr>\n",
       "      <th>2997</th>\n",
       "      <td>0</td>\n",
       "    </tr>\n",
       "    <tr>\n",
       "      <th>2998</th>\n",
       "      <td>0</td>\n",
       "    </tr>\n",
       "    <tr>\n",
       "      <th>2999</th>\n",
       "      <td>1</td>\n",
       "    </tr>\n",
       "  </tbody>\n",
       "</table>\n",
       "<p>3000 rows × 1 columns</p>\n",
       "</div>"
      ],
      "text/plain": [
       "      left\n",
       "0        0\n",
       "1        0\n",
       "2        0\n",
       "3        1\n",
       "4        0\n",
       "...    ...\n",
       "2995     0\n",
       "2996     0\n",
       "2997     0\n",
       "2998     0\n",
       "2999     1\n",
       "\n",
       "[3000 rows x 1 columns]"
      ]
     },
     "execution_count": 125,
     "metadata": {},
     "output_type": "execute_result"
    }
   ],
   "source": [
    "# predict the model with DecisionTreeClassifier:\n",
    "y1_predict=model1.predict(x_test)\n",
    "predicted_status1=pd.DataFrame(data={\"left\":y1_predict.flatten()})\n",
    "predicted_status1"
   ]
  },
  {
   "cell_type": "code",
   "execution_count": 120,
   "id": "a5eb19f7",
   "metadata": {},
   "outputs": [
    {
     "name": "stdout",
     "output_type": "stream",
     "text": [
      "Accuracy_score: 0.755\n"
     ]
    }
   ],
   "source": [
    "# classification  Report for LogisticRegression:\n",
    "from sklearn import metrics\n",
    "from sklearn.metrics import accuracy_score,classification_report,confusion_matrix\n",
    "\n",
    "print(\"Accuracy_score:\",metrics.accuracy_score(y_test,y_predict))"
   ]
  },
  {
   "cell_type": "code",
   "execution_count": 122,
   "id": "481b09a9",
   "metadata": {},
   "outputs": [
    {
     "name": "stdout",
     "output_type": "stream",
     "text": [
      "Confusion_matrix: [[2109  185]\n",
      " [ 550  156]]\n"
     ]
    }
   ],
   "source": [
    "print(\"Confusion_matrix:\",metrics.confusion_matrix(y_test,y_predict))"
   ]
  },
  {
   "cell_type": "code",
   "execution_count": 124,
   "id": "d82ab34f",
   "metadata": {},
   "outputs": [
    {
     "name": "stdout",
     "output_type": "stream",
     "text": [
      "classification_report:               precision    recall  f1-score   support\n",
      "\n",
      "           0       0.79      0.92      0.85      2294\n",
      "           1       0.46      0.22      0.30       706\n",
      "\n",
      "    accuracy                           0.76      3000\n",
      "   macro avg       0.63      0.57      0.57      3000\n",
      "weighted avg       0.71      0.76      0.72      3000\n",
      "\n"
     ]
    }
   ],
   "source": [
    "print(\"classification_report:\",metrics.classification_report(y_test,y_predict))"
   ]
  },
  {
   "cell_type": "code",
   "execution_count": 128,
   "id": "b9695c39",
   "metadata": {},
   "outputs": [
    {
     "data": {
      "text/plain": [
       "[Text(245.7421875, 792.75, 'X[0] <= 0.465\\ngini = 0.368\\nsamples = 3000\\nvalue = [2271, 729]'),\n",
       " Text(91.0546875, 747.45, 'X[2] <= 2.5\\ngini = 0.476\\nsamples = 829\\nvalue = [324, 505]'),\n",
       " Text(33.75, 702.15, 'X[3] <= 162.0\\ngini = 0.188\\nsamples = 352\\nvalue = [37, 315]'),\n",
       " Text(13.5, 656.85, 'X[3] <= 125.0\\ngini = 0.082\\nsamples = 326\\nvalue = [14, 312]'),\n",
       " Text(9.0, 611.55, 'gini = 0.0\\nsamples = 8\\nvalue = [8, 0]'),\n",
       " Text(18.0, 611.55, 'X[4] <= 3.5\\ngini = 0.037\\nsamples = 318\\nvalue = [6, 312]'),\n",
       " Text(9.0, 566.25, 'X[0] <= 0.31\\ngini = 0.013\\nsamples = 311\\nvalue = [2, 309]'),\n",
       " Text(4.5, 520.95, 'gini = 0.0\\nsamples = 1\\nvalue = [1, 0]'),\n",
       " Text(13.5, 520.95, 'X[3] <= 150.5\\ngini = 0.006\\nsamples = 310\\nvalue = [1, 309]'),\n",
       " Text(9.0, 475.65, 'gini = 0.0\\nsamples = 217\\nvalue = [0, 217]'),\n",
       " Text(18.0, 475.65, 'X[3] <= 151.5\\ngini = 0.021\\nsamples = 93\\nvalue = [1, 92]'),\n",
       " Text(13.5, 430.35, 'X[1] <= 0.51\\ngini = 0.117\\nsamples = 16\\nvalue = [1, 15]'),\n",
       " Text(9.0, 385.05, 'gini = 0.0\\nsamples = 9\\nvalue = [0, 9]'),\n",
       " Text(18.0, 385.05, 'X[1] <= 0.525\\ngini = 0.245\\nsamples = 7\\nvalue = [1, 6]'),\n",
       " Text(13.5, 339.75, 'gini = 0.0\\nsamples = 1\\nvalue = [1, 0]'),\n",
       " Text(22.5, 339.75, 'gini = 0.0\\nsamples = 6\\nvalue = [0, 6]'),\n",
       " Text(22.5, 430.35, 'gini = 0.0\\nsamples = 77\\nvalue = [0, 77]'),\n",
       " Text(27.0, 566.25, 'X[0] <= 0.34\\ngini = 0.49\\nsamples = 7\\nvalue = [4, 3]'),\n",
       " Text(22.5, 520.95, 'gini = 0.0\\nsamples = 2\\nvalue = [0, 2]'),\n",
       " Text(31.5, 520.95, 'X[5] <= 0.5\\ngini = 0.32\\nsamples = 5\\nvalue = [4, 1]'),\n",
       " Text(27.0, 475.65, 'gini = 0.0\\nsamples = 4\\nvalue = [4, 0]'),\n",
       " Text(36.0, 475.65, 'gini = 0.0\\nsamples = 1\\nvalue = [0, 1]'),\n",
       " Text(54.0, 656.85, 'X[3] <= 236.5\\ngini = 0.204\\nsamples = 26\\nvalue = [23, 3]'),\n",
       " Text(49.5, 611.55, 'gini = 0.0\\nsamples = 18\\nvalue = [18, 0]'),\n",
       " Text(58.5, 611.55, 'X[0] <= 0.38\\ngini = 0.469\\nsamples = 8\\nvalue = [5, 3]'),\n",
       " Text(54.0, 566.25, 'X[3] <= 258.0\\ngini = 0.278\\nsamples = 6\\nvalue = [5, 1]'),\n",
       " Text(49.5, 520.95, 'X[4] <= 4.5\\ngini = 0.5\\nsamples = 2\\nvalue = [1, 1]'),\n",
       " Text(45.0, 475.65, 'gini = 0.0\\nsamples = 1\\nvalue = [0, 1]'),\n",
       " Text(54.0, 475.65, 'gini = 0.0\\nsamples = 1\\nvalue = [1, 0]'),\n",
       " Text(58.5, 520.95, 'gini = 0.0\\nsamples = 4\\nvalue = [4, 0]'),\n",
       " Text(63.0, 566.25, 'gini = 0.0\\nsamples = 2\\nvalue = [0, 2]'),\n",
       " Text(148.359375, 702.15, 'X[0] <= 0.115\\ngini = 0.479\\nsamples = 477\\nvalue = [287, 190]'),\n",
       " Text(143.859375, 656.85, 'gini = 0.0\\nsamples = 156\\nvalue = [0, 156]'),\n",
       " Text(152.859375, 656.85, 'X[2] <= 6.5\\ngini = 0.189\\nsamples = 321\\nvalue = [287, 34]'),\n",
       " Text(148.359375, 611.55, 'X[1] <= 0.995\\ngini = 0.171\\nsamples = 317\\nvalue = [287, 30]'),\n",
       " Text(118.40625, 566.25, 'X[3] <= 152.5\\ngini = 0.158\\nsamples = 312\\nvalue = [285, 27]'),\n",
       " Text(72.0, 520.95, 'X[2] <= 5.5\\ngini = 0.324\\nsamples = 64\\nvalue = [51, 13]'),\n",
       " Text(63.0, 475.65, 'X[3] <= 131.0\\ngini = 0.183\\nsamples = 49\\nvalue = [44, 5]'),\n",
       " Text(58.5, 430.35, 'gini = 0.0\\nsamples = 26\\nvalue = [26, 0]'),\n",
       " Text(67.5, 430.35, 'X[0] <= 0.295\\ngini = 0.34\\nsamples = 23\\nvalue = [18, 5]'),\n",
       " Text(63.0, 385.05, 'gini = 0.0\\nsamples = 12\\nvalue = [12, 0]'),\n",
       " Text(72.0, 385.05, 'X[0] <= 0.33\\ngini = 0.496\\nsamples = 11\\nvalue = [6, 5]'),\n",
       " Text(67.5, 339.75, 'X[2] <= 3.5\\ngini = 0.278\\nsamples = 6\\nvalue = [1, 5]'),\n",
       " Text(63.0, 294.45000000000005, 'gini = 0.0\\nsamples = 1\\nvalue = [1, 0]'),\n",
       " Text(72.0, 294.45000000000005, 'gini = 0.0\\nsamples = 5\\nvalue = [0, 5]'),\n",
       " Text(76.5, 339.75, 'gini = 0.0\\nsamples = 5\\nvalue = [5, 0]'),\n",
       " Text(81.0, 475.65, 'X[4] <= 2.5\\ngini = 0.498\\nsamples = 15\\nvalue = [7, 8]'),\n",
       " Text(76.5, 430.35, 'gini = 0.0\\nsamples = 3\\nvalue = [0, 3]'),\n",
       " Text(85.5, 430.35, 'X[0] <= 0.195\\ngini = 0.486\\nsamples = 12\\nvalue = [7, 5]'),\n",
       " Text(81.0, 385.05, 'gini = 0.0\\nsamples = 4\\nvalue = [4, 0]'),\n",
       " Text(90.0, 385.05, 'X[1] <= 0.5\\ngini = 0.469\\nsamples = 8\\nvalue = [3, 5]'),\n",
       " Text(85.5, 339.75, 'gini = 0.0\\nsamples = 1\\nvalue = [1, 0]'),\n",
       " Text(94.5, 339.75, 'X[3] <= 151.5\\ngini = 0.408\\nsamples = 7\\nvalue = [2, 5]'),\n",
       " Text(90.0, 294.45000000000005, 'X[0] <= 0.415\\ngini = 0.278\\nsamples = 6\\nvalue = [1, 5]'),\n",
       " Text(85.5, 249.14999999999998, 'gini = 0.0\\nsamples = 5\\nvalue = [0, 5]'),\n",
       " Text(94.5, 249.14999999999998, 'gini = 0.0\\nsamples = 1\\nvalue = [1, 0]'),\n",
       " Text(99.0, 294.45000000000005, 'gini = 0.0\\nsamples = 1\\nvalue = [1, 0]'),\n",
       " Text(164.8125, 520.95, 'X[3] <= 290.5\\ngini = 0.107\\nsamples = 248\\nvalue = [234, 14]'),\n",
       " Text(160.3125, 475.65, 'X[0] <= 0.455\\ngini = 0.1\\nsamples = 247\\nvalue = [234, 13]'),\n",
       " Text(138.375, 430.35, 'X[1] <= 0.465\\ngini = 0.093\\nsamples = 245\\nvalue = [233, 12]'),\n",
       " Text(108.0, 385.05, 'X[1] <= 0.445\\ngini = 0.287\\nsamples = 23\\nvalue = [19, 4]'),\n",
       " Text(103.5, 339.75, 'gini = 0.0\\nsamples = 17\\nvalue = [17, 0]'),\n",
       " Text(112.5, 339.75, 'X[1] <= 0.455\\ngini = 0.444\\nsamples = 6\\nvalue = [2, 4]'),\n",
       " Text(108.0, 294.45000000000005, 'gini = 0.0\\nsamples = 3\\nvalue = [0, 3]'),\n",
       " Text(117.0, 294.45000000000005, 'X[4] <= 7.0\\ngini = 0.444\\nsamples = 3\\nvalue = [2, 1]'),\n",
       " Text(112.5, 249.14999999999998, 'X[3] <= 231.5\\ngini = 0.5\\nsamples = 2\\nvalue = [1, 1]'),\n",
       " Text(108.0, 203.85000000000002, 'gini = 0.0\\nsamples = 1\\nvalue = [0, 1]'),\n",
       " Text(117.0, 203.85000000000002, 'gini = 0.0\\nsamples = 1\\nvalue = [1, 0]'),\n",
       " Text(121.5, 249.14999999999998, 'gini = 0.0\\nsamples = 1\\nvalue = [1, 0]'),\n",
       " Text(168.75, 385.05, 'X[3] <= 275.5\\ngini = 0.069\\nsamples = 222\\nvalue = [214, 8]'),\n",
       " Text(148.5, 339.75, 'X[4] <= 3.5\\ngini = 0.049\\nsamples = 201\\nvalue = [196, 5]'),\n",
       " Text(135.0, 294.45000000000005, 'X[1] <= 0.695\\ngini = 0.119\\nsamples = 63\\nvalue = [59, 4]'),\n",
       " Text(130.5, 249.14999999999998, 'gini = 0.0\\nsamples = 32\\nvalue = [32, 0]'),\n",
       " Text(139.5, 249.14999999999998, 'X[1] <= 0.71\\ngini = 0.225\\nsamples = 31\\nvalue = [27, 4]'),\n",
       " Text(135.0, 203.85000000000002, 'gini = 0.0\\nsamples = 1\\nvalue = [0, 1]'),\n",
       " Text(144.0, 203.85000000000002, 'X[0] <= 0.175\\ngini = 0.18\\nsamples = 30\\nvalue = [27, 3]'),\n",
       " Text(139.5, 158.55000000000007, 'X[0] <= 0.165\\ngini = 0.397\\nsamples = 11\\nvalue = [8, 3]'),\n",
       " Text(135.0, 113.25, 'gini = 0.0\\nsamples = 8\\nvalue = [8, 0]'),\n",
       " Text(144.0, 113.25, 'gini = 0.0\\nsamples = 3\\nvalue = [0, 3]'),\n",
       " Text(148.5, 158.55000000000007, 'gini = 0.0\\nsamples = 19\\nvalue = [19, 0]'),\n",
       " Text(162.0, 294.45000000000005, 'X[3] <= 158.5\\ngini = 0.014\\nsamples = 138\\nvalue = [137, 1]'),\n",
       " Text(157.5, 249.14999999999998, 'X[0] <= 0.155\\ngini = 0.18\\nsamples = 10\\nvalue = [9, 1]'),\n",
       " Text(153.0, 203.85000000000002, 'gini = 0.0\\nsamples = 1\\nvalue = [0, 1]'),\n",
       " Text(162.0, 203.85000000000002, 'gini = 0.0\\nsamples = 9\\nvalue = [9, 0]'),\n",
       " Text(166.5, 249.14999999999998, 'gini = 0.0\\nsamples = 128\\nvalue = [128, 0]'),\n",
       " Text(189.0, 339.75, 'X[3] <= 277.5\\ngini = 0.245\\nsamples = 21\\nvalue = [18, 3]'),\n",
       " Text(180.0, 294.45000000000005, 'X[2] <= 4.5\\ngini = 0.444\\nsamples = 3\\nvalue = [1, 2]'),\n",
       " Text(175.5, 249.14999999999998, 'gini = 0.0\\nsamples = 2\\nvalue = [0, 2]'),\n",
       " Text(184.5, 249.14999999999998, 'gini = 0.0\\nsamples = 1\\nvalue = [1, 0]'),\n",
       " Text(198.0, 294.45000000000005, 'X[4] <= 2.5\\ngini = 0.105\\nsamples = 18\\nvalue = [17, 1]'),\n",
       " Text(193.5, 249.14999999999998, 'gini = 0.0\\nsamples = 1\\nvalue = [0, 1]'),\n",
       " Text(202.5, 249.14999999999998, 'gini = 0.0\\nsamples = 17\\nvalue = [17, 0]'),\n",
       " Text(182.25, 430.35, 'X[4] <= 3.5\\ngini = 0.5\\nsamples = 2\\nvalue = [1, 1]'),\n",
       " Text(177.75, 385.05, 'gini = 0.0\\nsamples = 1\\nvalue = [1, 0]'),\n",
       " Text(186.75, 385.05, 'gini = 0.0\\nsamples = 1\\nvalue = [0, 1]'),\n",
       " Text(169.3125, 475.65, 'gini = 0.0\\nsamples = 1\\nvalue = [0, 1]'),\n",
       " Text(178.3125, 566.25, 'X[2] <= 5.0\\ngini = 0.48\\nsamples = 5\\nvalue = [2, 3]'),\n",
       " Text(173.8125, 520.95, 'gini = 0.0\\nsamples = 3\\nvalue = [0, 3]'),\n",
       " Text(182.8125, 520.95, 'gini = 0.0\\nsamples = 2\\nvalue = [2, 0]'),\n",
       " Text(157.359375, 611.55, 'gini = 0.0\\nsamples = 4\\nvalue = [0, 4]'),\n",
       " Text(400.4296875, 747.45, 'X[4] <= 4.5\\ngini = 0.185\\nsamples = 2171\\nvalue = [1947, 224]'),\n",
       " Text(338.484375, 702.15, 'X[3] <= 290.5\\ngini = 0.032\\nsamples = 1781\\nvalue = [1752, 29]'),\n",
       " Text(333.984375, 656.85, 'X[1] <= 0.985\\ngini = 0.027\\nsamples = 1776\\nvalue = [1752, 24]'),\n",
       " Text(271.96875, 611.55, 'X[4] <= 3.5\\ngini = 0.023\\nsamples = 1731\\nvalue = [1711, 20]'),\n",
       " Text(211.5, 566.25, 'X[3] <= 102.0\\ngini = 0.015\\nsamples = 1466\\nvalue = [1455, 11]'),\n",
       " Text(193.5, 520.95, 'X[0] <= 0.485\\ngini = 0.278\\nsamples = 6\\nvalue = [5, 1]'),\n",
       " Text(189.0, 475.65, 'gini = 0.0\\nsamples = 1\\nvalue = [0, 1]'),\n",
       " Text(198.0, 475.65, 'gini = 0.0\\nsamples = 5\\nvalue = [5, 0]'),\n",
       " Text(229.5, 520.95, 'X[1] <= 0.475\\ngini = 0.014\\nsamples = 1460\\nvalue = [1450, 10]'),\n",
       " Text(207.0, 475.65, 'X[0] <= 0.945\\ngini = 0.128\\nsamples = 29\\nvalue = [27, 2]'),\n",
       " Text(202.5, 430.35, 'X[1] <= 0.465\\ngini = 0.069\\nsamples = 28\\nvalue = [27, 1]'),\n",
       " Text(198.0, 385.05, 'gini = 0.0\\nsamples = 23\\nvalue = [23, 0]'),\n",
       " Text(207.0, 385.05, 'X[2] <= 2.5\\ngini = 0.32\\nsamples = 5\\nvalue = [4, 1]'),\n",
       " Text(202.5, 339.75, 'gini = 0.0\\nsamples = 1\\nvalue = [0, 1]'),\n",
       " Text(211.5, 339.75, 'gini = 0.0\\nsamples = 4\\nvalue = [4, 0]'),\n",
       " Text(211.5, 430.35, 'gini = 0.0\\nsamples = 1\\nvalue = [0, 1]'),\n",
       " Text(252.0, 475.65, 'X[3] <= 262.5\\ngini = 0.011\\nsamples = 1431\\nvalue = [1423, 8]'),\n",
       " Text(234.0, 430.35, 'X[6] <= 0.5\\ngini = 0.006\\nsamples = 1290\\nvalue = [1286, 4]'),\n",
       " Text(225.0, 385.05, 'X[0] <= 0.605\\ngini = 0.005\\nsamples = 1266\\nvalue = [1263, 3]'),\n",
       " Text(220.5, 339.75, 'X[1] <= 0.695\\ngini = 0.018\\nsamples = 328\\nvalue = [325, 3]'),\n",
       " Text(216.0, 294.45000000000005, 'X[1] <= 0.655\\ngini = 0.04\\nsamples = 146\\nvalue = [143, 3]'),\n",
       " Text(211.5, 249.14999999999998, 'gini = 0.0\\nsamples = 118\\nvalue = [118, 0]'),\n",
       " Text(220.5, 249.14999999999998, 'X[3] <= 246.0\\ngini = 0.191\\nsamples = 28\\nvalue = [25, 3]'),\n",
       " Text(216.0, 203.85000000000002, 'X[3] <= 172.0\\ngini = 0.137\\nsamples = 27\\nvalue = [25, 2]'),\n",
       " Text(211.5, 158.55000000000007, 'X[3] <= 167.5\\ngini = 0.298\\nsamples = 11\\nvalue = [9, 2]'),\n",
       " Text(207.0, 113.25, 'X[0] <= 0.525\\ngini = 0.18\\nsamples = 10\\nvalue = [9, 1]'),\n",
       " Text(202.5, 67.95000000000005, 'X[1] <= 0.675\\ngini = 0.5\\nsamples = 2\\nvalue = [1, 1]'),\n",
       " Text(198.0, 22.649999999999977, 'gini = 0.0\\nsamples = 1\\nvalue = [0, 1]'),\n",
       " Text(207.0, 22.649999999999977, 'gini = 0.0\\nsamples = 1\\nvalue = [1, 0]'),\n",
       " Text(211.5, 67.95000000000005, 'gini = 0.0\\nsamples = 8\\nvalue = [8, 0]'),\n",
       " Text(216.0, 113.25, 'gini = 0.0\\nsamples = 1\\nvalue = [0, 1]'),\n",
       " Text(220.5, 158.55000000000007, 'gini = 0.0\\nsamples = 16\\nvalue = [16, 0]'),\n",
       " Text(225.0, 203.85000000000002, 'gini = 0.0\\nsamples = 1\\nvalue = [0, 1]'),\n",
       " Text(225.0, 294.45000000000005, 'gini = 0.0\\nsamples = 182\\nvalue = [182, 0]'),\n",
       " Text(229.5, 339.75, 'gini = 0.0\\nsamples = 938\\nvalue = [938, 0]'),\n",
       " Text(243.0, 385.05, 'X[1] <= 0.595\\ngini = 0.08\\nsamples = 24\\nvalue = [23, 1]'),\n",
       " Text(238.5, 339.75, 'X[3] <= 150.5\\ngini = 0.32\\nsamples = 5\\nvalue = [4, 1]'),\n",
       " Text(234.0, 294.45000000000005, 'gini = 0.0\\nsamples = 1\\nvalue = [0, 1]'),\n",
       " Text(243.0, 294.45000000000005, 'gini = 0.0\\nsamples = 4\\nvalue = [4, 0]'),\n",
       " Text(247.5, 339.75, 'gini = 0.0\\nsamples = 19\\nvalue = [19, 0]'),\n",
       " Text(270.0, 430.35, 'X[3] <= 263.5\\ngini = 0.055\\nsamples = 141\\nvalue = [137, 4]'),\n",
       " Text(261.0, 385.05, 'X[2] <= 4.5\\ngini = 0.278\\nsamples = 12\\nvalue = [10, 2]'),\n",
       " Text(256.5, 339.75, 'gini = 0.0\\nsamples = 10\\nvalue = [10, 0]'),\n",
       " Text(265.5, 339.75, 'gini = 0.0\\nsamples = 2\\nvalue = [0, 2]'),\n",
       " Text(279.0, 385.05, 'X[1] <= 0.745\\ngini = 0.031\\nsamples = 129\\nvalue = [127, 2]'),\n",
       " Text(274.5, 339.75, 'gini = 0.0\\nsamples = 66\\nvalue = [66, 0]'),\n",
       " Text(283.5, 339.75, 'X[1] <= 0.755\\ngini = 0.061\\nsamples = 63\\nvalue = [61, 2]'),\n",
       " Text(274.5, 294.45000000000005, 'X[4] <= 2.5\\ngini = 0.32\\nsamples = 5\\nvalue = [4, 1]'),\n",
       " Text(270.0, 249.14999999999998, 'X[3] <= 270.5\\ngini = 0.5\\nsamples = 2\\nvalue = [1, 1]'),\n",
       " Text(265.5, 203.85000000000002, 'gini = 0.0\\nsamples = 1\\nvalue = [0, 1]'),\n",
       " Text(274.5, 203.85000000000002, 'gini = 0.0\\nsamples = 1\\nvalue = [1, 0]'),\n",
       " Text(279.0, 249.14999999999998, 'gini = 0.0\\nsamples = 3\\nvalue = [3, 0]'),\n",
       " Text(292.5, 294.45000000000005, 'X[0] <= 0.585\\ngini = 0.034\\nsamples = 58\\nvalue = [57, 1]'),\n",
       " Text(288.0, 249.14999999999998, 'X[2] <= 4.5\\ngini = 0.198\\nsamples = 9\\nvalue = [8, 1]'),\n",
       " Text(283.5, 203.85000000000002, 'gini = 0.0\\nsamples = 8\\nvalue = [8, 0]'),\n",
       " Text(292.5, 203.85000000000002, 'gini = 0.0\\nsamples = 1\\nvalue = [0, 1]'),\n",
       " Text(297.0, 249.14999999999998, 'gini = 0.0\\nsamples = 49\\nvalue = [49, 0]'),\n",
       " Text(332.4375, 566.25, 'X[0] <= 0.555\\ngini = 0.066\\nsamples = 265\\nvalue = [256, 9]'),\n",
       " Text(306.0, 520.95, 'X[1] <= 0.635\\ngini = 0.202\\nsamples = 35\\nvalue = [31, 4]'),\n",
       " Text(301.5, 475.65, 'X[1] <= 0.535\\ngini = 0.375\\nsamples = 16\\nvalue = [12, 4]'),\n",
       " Text(297.0, 430.35, 'gini = 0.0\\nsamples = 8\\nvalue = [8, 0]'),\n",
       " Text(306.0, 430.35, 'X[3] <= 175.0\\ngini = 0.5\\nsamples = 8\\nvalue = [4, 4]'),\n",
       " Text(297.0, 385.05, 'X[3] <= 124.5\\ngini = 0.375\\nsamples = 4\\nvalue = [1, 3]'),\n",
       " Text(292.5, 339.75, 'gini = 0.0\\nsamples = 1\\nvalue = [1, 0]'),\n",
       " Text(301.5, 339.75, 'gini = 0.0\\nsamples = 3\\nvalue = [0, 3]'),\n",
       " Text(315.0, 385.05, 'X[3] <= 258.5\\ngini = 0.375\\nsamples = 4\\nvalue = [3, 1]'),\n",
       " Text(310.5, 339.75, 'gini = 0.0\\nsamples = 3\\nvalue = [3, 0]'),\n",
       " Text(319.5, 339.75, 'gini = 0.0\\nsamples = 1\\nvalue = [0, 1]'),\n",
       " Text(310.5, 475.65, 'gini = 0.0\\nsamples = 19\\nvalue = [19, 0]'),\n",
       " Text(358.875, 520.95, 'X[3] <= 273.0\\ngini = 0.043\\nsamples = 230\\nvalue = [225, 5]'),\n",
       " Text(344.25, 475.65, 'X[1] <= 0.865\\ngini = 0.035\\nsamples = 225\\nvalue = [221, 4]'),\n",
       " Text(328.5, 430.35, 'X[2] <= 5.5\\ngini = 0.011\\nsamples = 176\\nvalue = [175, 1]'),\n",
       " Text(324.0, 385.05, 'gini = 0.0\\nsamples = 165\\nvalue = [165, 0]'),\n",
       " Text(333.0, 385.05, 'X[3] <= 162.0\\ngini = 0.165\\nsamples = 11\\nvalue = [10, 1]'),\n",
       " Text(328.5, 339.75, 'X[3] <= 130.5\\ngini = 0.5\\nsamples = 2\\nvalue = [1, 1]'),\n",
       " Text(324.0, 294.45000000000005, 'gini = 0.0\\nsamples = 1\\nvalue = [1, 0]'),\n",
       " Text(333.0, 294.45000000000005, 'gini = 0.0\\nsamples = 1\\nvalue = [0, 1]'),\n",
       " Text(337.5, 339.75, 'gini = 0.0\\nsamples = 9\\nvalue = [9, 0]'),\n",
       " Text(360.0, 430.35, 'X[1] <= 0.885\\ngini = 0.115\\nsamples = 49\\nvalue = [46, 3]'),\n",
       " Text(351.0, 385.05, 'X[3] <= 205.0\\ngini = 0.298\\nsamples = 11\\nvalue = [9, 2]'),\n",
       " Text(346.5, 339.75, 'gini = 0.0\\nsamples = 6\\nvalue = [6, 0]'),\n",
       " Text(355.5, 339.75, 'X[3] <= 213.5\\ngini = 0.48\\nsamples = 5\\nvalue = [3, 2]'),\n",
       " Text(351.0, 294.45000000000005, 'gini = 0.0\\nsamples = 2\\nvalue = [0, 2]'),\n",
       " Text(360.0, 294.45000000000005, 'gini = 0.0\\nsamples = 3\\nvalue = [3, 0]'),\n",
       " Text(369.0, 385.05, 'X[2] <= 4.5\\ngini = 0.051\\nsamples = 38\\nvalue = [37, 1]'),\n",
       " Text(364.5, 339.75, 'gini = 0.0\\nsamples = 25\\nvalue = [25, 0]'),\n",
       " Text(373.5, 339.75, 'X[0] <= 0.735\\ngini = 0.142\\nsamples = 13\\nvalue = [12, 1]'),\n",
       " Text(369.0, 294.45000000000005, 'X[0] <= 0.72\\ngini = 0.444\\nsamples = 3\\nvalue = [2, 1]'),\n",
       " Text(364.5, 249.14999999999998, 'gini = 0.0\\nsamples = 2\\nvalue = [2, 0]'),\n",
       " Text(373.5, 249.14999999999998, 'gini = 0.0\\nsamples = 1\\nvalue = [0, 1]'),\n",
       " Text(378.0, 294.45000000000005, 'gini = 0.0\\nsamples = 10\\nvalue = [10, 0]'),\n",
       " Text(373.5, 475.65, 'X[2] <= 2.5\\ngini = 0.32\\nsamples = 5\\nvalue = [4, 1]'),\n",
       " Text(369.0, 430.35, 'gini = 0.0\\nsamples = 1\\nvalue = [0, 1]'),\n",
       " Text(378.0, 430.35, 'gini = 0.0\\nsamples = 4\\nvalue = [4, 0]'),\n",
       " Text(396.0, 611.55, 'X[3] <= 275.0\\ngini = 0.162\\nsamples = 45\\nvalue = [41, 4]'),\n",
       " Text(391.5, 566.25, 'X[2] <= 5.5\\ngini = 0.089\\nsamples = 43\\nvalue = [41, 2]'),\n",
       " Text(387.0, 520.95, 'X[3] <= 245.5\\ngini = 0.046\\nsamples = 42\\nvalue = [41, 1]'),\n",
       " Text(382.5, 475.65, 'gini = 0.0\\nsamples = 31\\nvalue = [31, 0]'),\n",
       " Text(391.5, 475.65, 'X[3] <= 250.0\\ngini = 0.165\\nsamples = 11\\nvalue = [10, 1]'),\n",
       " Text(387.0, 430.35, 'gini = 0.0\\nsamples = 1\\nvalue = [0, 1]'),\n",
       " Text(396.0, 430.35, 'gini = 0.0\\nsamples = 10\\nvalue = [10, 0]'),\n",
       " Text(396.0, 520.95, 'gini = 0.0\\nsamples = 1\\nvalue = [0, 1]'),\n",
       " Text(400.5, 566.25, 'gini = 0.0\\nsamples = 2\\nvalue = [0, 2]'),\n",
       " Text(342.984375, 656.85, 'gini = 0.0\\nsamples = 5\\nvalue = [0, 5]'),\n",
       " Text(462.375, 702.15, 'X[1] <= 0.815\\ngini = 0.5\\nsamples = 390\\nvalue = [195, 195]'),\n",
       " Text(429.75, 656.85, 'X[3] <= 286.5\\ngini = 0.139\\nsamples = 146\\nvalue = [135, 11]'),\n",
       " Text(425.25, 611.55, 'X[3] <= 272.0\\ngini = 0.117\\nsamples = 144\\nvalue = [135, 9]'),\n",
       " Text(414.0, 566.25, 'X[1] <= 0.805\\ngini = 0.085\\nsamples = 135\\nvalue = [129, 6]'),\n",
       " Text(405.0, 520.95, 'X[2] <= 3.5\\ngini = 0.06\\nsamples = 130\\nvalue = [126, 4]'),\n",
       " Text(400.5, 475.65, 'gini = 0.0\\nsamples = 64\\nvalue = [64, 0]'),\n",
       " Text(409.5, 475.65, 'X[0] <= 0.655\\ngini = 0.114\\nsamples = 66\\nvalue = [62, 4]'),\n",
       " Text(405.0, 430.35, 'gini = 0.0\\nsamples = 26\\nvalue = [26, 0]'),\n",
       " Text(414.0, 430.35, 'X[0] <= 0.895\\ngini = 0.18\\nsamples = 40\\nvalue = [36, 4]'),\n",
       " Text(409.5, 385.05, 'X[4] <= 5.5\\ngini = 0.308\\nsamples = 21\\nvalue = [17, 4]'),\n",
       " Text(400.5, 339.75, 'X[1] <= 0.505\\ngini = 0.469\\nsamples = 8\\nvalue = [5, 3]'),\n",
       " Text(396.0, 294.45000000000005, 'gini = 0.0\\nsamples = 3\\nvalue = [3, 0]'),\n",
       " Text(405.0, 294.45000000000005, 'X[1] <= 0.785\\ngini = 0.48\\nsamples = 5\\nvalue = [2, 3]'),\n",
       " Text(400.5, 249.14999999999998, 'gini = 0.0\\nsamples = 3\\nvalue = [0, 3]'),\n",
       " Text(409.5, 249.14999999999998, 'gini = 0.0\\nsamples = 2\\nvalue = [2, 0]'),\n",
       " Text(418.5, 339.75, 'X[0] <= 0.885\\ngini = 0.142\\nsamples = 13\\nvalue = [12, 1]'),\n",
       " Text(414.0, 294.45000000000005, 'gini = 0.0\\nsamples = 11\\nvalue = [11, 0]'),\n",
       " Text(423.0, 294.45000000000005, 'X[1] <= 0.695\\ngini = 0.5\\nsamples = 2\\nvalue = [1, 1]'),\n",
       " Text(418.5, 249.14999999999998, 'gini = 0.0\\nsamples = 1\\nvalue = [0, 1]'),\n",
       " Text(427.5, 249.14999999999998, 'gini = 0.0\\nsamples = 1\\nvalue = [1, 0]'),\n",
       " Text(418.5, 385.05, 'gini = 0.0\\nsamples = 19\\nvalue = [19, 0]'),\n",
       " Text(423.0, 520.95, 'X[3] <= 238.5\\ngini = 0.48\\nsamples = 5\\nvalue = [3, 2]'),\n",
       " Text(418.5, 475.65, 'gini = 0.0\\nsamples = 2\\nvalue = [0, 2]'),\n",
       " Text(427.5, 475.65, 'gini = 0.0\\nsamples = 3\\nvalue = [3, 0]'),\n",
       " Text(436.5, 566.25, 'X[3] <= 282.5\\ngini = 0.444\\nsamples = 9\\nvalue = [6, 3]'),\n",
       " Text(432.0, 520.95, 'gini = 0.0\\nsamples = 3\\nvalue = [0, 3]'),\n",
       " Text(441.0, 520.95, 'gini = 0.0\\nsamples = 6\\nvalue = [6, 0]'),\n",
       " Text(434.25, 611.55, 'gini = 0.0\\nsamples = 2\\nvalue = [0, 2]'),\n",
       " Text(495.0, 656.85, 'X[3] <= 211.0\\ngini = 0.371\\nsamples = 244\\nvalue = [60, 184]'),\n",
       " Text(465.75, 611.55, 'X[2] <= 2.5\\ngini = 0.306\\nsamples = 53\\nvalue = [43, 10]'),\n",
       " Text(454.5, 566.25, 'X[4] <= 5.5\\ngini = 0.245\\nsamples = 7\\nvalue = [1, 6]'),\n",
       " Text(450.0, 520.95, 'gini = 0.0\\nsamples = 6\\nvalue = [0, 6]'),\n",
       " Text(459.0, 520.95, 'gini = 0.0\\nsamples = 1\\nvalue = [1, 0]'),\n",
       " Text(477.0, 566.25, 'X[4] <= 5.5\\ngini = 0.159\\nsamples = 46\\nvalue = [42, 4]'),\n",
       " Text(468.0, 520.95, 'X[1] <= 0.895\\ngini = 0.397\\nsamples = 11\\nvalue = [8, 3]'),\n",
       " Text(463.5, 475.65, 'gini = 0.0\\nsamples = 3\\nvalue = [0, 3]'),\n",
       " Text(472.5, 475.65, 'gini = 0.0\\nsamples = 8\\nvalue = [8, 0]'),\n",
       " Text(486.0, 520.95, 'X[2] <= 5.5\\ngini = 0.056\\nsamples = 35\\nvalue = [34, 1]'),\n",
       " Text(481.5, 475.65, 'gini = 0.0\\nsamples = 33\\nvalue = [33, 0]'),\n",
       " Text(490.5, 475.65, 'X[3] <= 171.5\\ngini = 0.5\\nsamples = 2\\nvalue = [1, 1]'),\n",
       " Text(486.0, 430.35, 'gini = 0.0\\nsamples = 1\\nvalue = [1, 0]'),\n",
       " Text(495.0, 430.35, 'gini = 0.0\\nsamples = 1\\nvalue = [0, 1]'),\n",
       " Text(524.25, 611.55, 'X[0] <= 0.69\\ngini = 0.162\\nsamples = 191\\nvalue = [17, 174]'),\n",
       " Text(508.5, 566.25, 'X[0] <= 0.49\\ngini = 0.473\\nsamples = 13\\nvalue = [8, 5]'),\n",
       " Text(504.0, 520.95, 'gini = 0.0\\nsamples = 3\\nvalue = [0, 3]'),\n",
       " Text(513.0, 520.95, 'X[4] <= 5.5\\ngini = 0.32\\nsamples = 10\\nvalue = [8, 2]'),\n",
       " Text(508.5, 475.65, 'X[1] <= 0.885\\ngini = 0.5\\nsamples = 4\\nvalue = [2, 2]'),\n",
       " Text(504.0, 430.35, 'gini = 0.0\\nsamples = 2\\nvalue = [2, 0]'),\n",
       " Text(513.0, 430.35, 'gini = 0.0\\nsamples = 2\\nvalue = [0, 2]'),\n",
       " Text(517.5, 475.65, 'gini = 0.0\\nsamples = 6\\nvalue = [6, 0]'),\n",
       " Text(540.0, 566.25, 'X[2] <= 3.5\\ngini = 0.096\\nsamples = 178\\nvalue = [9, 169]'),\n",
       " Text(531.0, 520.95, 'X[3] <= 222.0\\ngini = 0.278\\nsamples = 6\\nvalue = [5, 1]'),\n",
       " Text(526.5, 475.65, 'gini = 0.0\\nsamples = 1\\nvalue = [0, 1]'),\n",
       " Text(535.5, 475.65, 'gini = 0.0\\nsamples = 5\\nvalue = [5, 0]'),\n",
       " Text(549.0, 520.95, 'X[2] <= 5.5\\ngini = 0.045\\nsamples = 172\\nvalue = [4, 168]'),\n",
       " Text(544.5, 475.65, 'X[0] <= 0.945\\ngini = 0.023\\nsamples = 170\\nvalue = [2, 168]'),\n",
       " Text(540.0, 430.35, 'X[0] <= 0.725\\ngini = 0.012\\nsamples = 169\\nvalue = [1, 168]'),\n",
       " Text(535.5, 385.05, 'X[3] <= 263.0\\ngini = 0.32\\nsamples = 5\\nvalue = [1, 4]'),\n",
       " Text(531.0, 339.75, 'gini = 0.0\\nsamples = 4\\nvalue = [0, 4]'),\n",
       " Text(540.0, 339.75, 'gini = 0.0\\nsamples = 1\\nvalue = [1, 0]'),\n",
       " Text(544.5, 385.05, 'gini = 0.0\\nsamples = 164\\nvalue = [0, 164]'),\n",
       " Text(549.0, 430.35, 'gini = 0.0\\nsamples = 1\\nvalue = [1, 0]'),\n",
       " Text(553.5, 475.65, 'gini = 0.0\\nsamples = 2\\nvalue = [2, 0]')]"
      ]
     },
     "execution_count": 128,
     "metadata": {},
     "output_type": "execute_result"
    },
    {
     "data": {
      "image/png": "[encoded data removed]",
      "text/plain": [
       "<Figure size 720x1080 with 1 Axes>"
      ]
     },
     "metadata": {
      "needs_background": "light"
     },
     "output_type": "display_data"
    }
   ],
   "source": [
    "classifier=DecisionTreeClassifier()\n",
    "classifier.fit(x_test,predicted_status1)\n",
    "from sklearn import tree\n",
    "plt.figure(figsize=(10,15))\n",
    "tree.plot_tree(classifier,filled=True)"
   ]
  }
 ],
 "metadata": {
  "kernelspec": {
   "display_name": "Python 3 (ipykernel)",
   "language": "python",
   "name": "python3"
  },
  "language_info": {
   "codemirror_mode": {
    "name": "ipython",
    "version": 3
   },
   "file_extension": ".py",
   "mimetype": "text/x-python",
   "name": "python",
   "nbconvert_exporter": "python",
   "pygments_lexer": "ipython3",
   "version": "3.9.7"
  }
 },
 "nbformat": 4,
 "nbformat_minor": 5
}
